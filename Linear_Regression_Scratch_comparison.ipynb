{
 "cells": [
  {
   "cell_type": "code",
   "execution_count": 2,
   "id": "b4e65981",
   "metadata": {},
   "outputs": [],
   "source": [
    "import pandas as pd\n",
    "import numpy as np"
   ]
  },
  {
   "cell_type": "code",
   "execution_count": 3,
   "id": "b44a2029",
   "metadata": {},
   "outputs": [],
   "source": [
    "import matplotlib.pyplot as plt"
   ]
  },
  {
   "cell_type": "code",
   "execution_count": 4,
   "id": "dd5fa388",
   "metadata": {},
   "outputs": [],
   "source": [
    "import seaborn as sns"
   ]
  },
  {
   "cell_type": "code",
   "execution_count": 5,
   "id": "cc86529a",
   "metadata": {},
   "outputs": [],
   "source": [
    "sns.set()\n",
    "%matplotlib inline"
   ]
  },
  {
   "cell_type": "code",
   "execution_count": 6,
   "id": "6664e9ff",
   "metadata": {},
   "outputs": [],
   "source": [
    "xx = np.array([-0.51, 51.2])\n",
    "yy = np.array([0.33, 51.6])\n",
    "means = [xx.mean(), yy.mean()]  \n",
    "stds = [xx.std() / 3, yy.std() / 3]\n",
    "corr = 0.8 # correlation\n",
    "covs = [[stds[0]**2, stds[0]*stds[1]*corr], \n",
    "        [stds[0]*stds[1]*corr,           stds[1]**2]] \n",
    "\n",
    "m = np.random.multivariate_normal(means, covs, 1000).T"
   ]
  },
  {
   "cell_type": "code",
   "execution_count": 7,
   "id": "4ced495d",
   "metadata": {},
   "outputs": [],
   "source": [
    "df=pd.DataFrame()"
   ]
  },
  {
   "cell_type": "code",
   "execution_count": 8,
   "id": "4ff466f0",
   "metadata": {},
   "outputs": [],
   "source": [
    "df['exp']=m[0]\n",
    "df['salary']=m[1]"
   ]
  },
  {
   "cell_type": "code",
   "execution_count": 9,
   "id": "76363f27",
   "metadata": {},
   "outputs": [
    {
     "data": {
      "text/html": [
       "<div>\n",
       "<style scoped>\n",
       "    .dataframe tbody tr th:only-of-type {\n",
       "        vertical-align: middle;\n",
       "    }\n",
       "\n",
       "    .dataframe tbody tr th {\n",
       "        vertical-align: top;\n",
       "    }\n",
       "\n",
       "    .dataframe thead th {\n",
       "        text-align: right;\n",
       "    }\n",
       "</style>\n",
       "<table border=\"1\" class=\"dataframe\">\n",
       "  <thead>\n",
       "    <tr style=\"text-align: right;\">\n",
       "      <th></th>\n",
       "      <th>exp</th>\n",
       "      <th>salary</th>\n",
       "    </tr>\n",
       "  </thead>\n",
       "  <tbody>\n",
       "    <tr>\n",
       "      <th>0</th>\n",
       "      <td>21.737810</td>\n",
       "      <td>11.474506</td>\n",
       "    </tr>\n",
       "    <tr>\n",
       "      <th>1</th>\n",
       "      <td>9.291892</td>\n",
       "      <td>11.325761</td>\n",
       "    </tr>\n",
       "    <tr>\n",
       "      <th>2</th>\n",
       "      <td>28.518744</td>\n",
       "      <td>30.328383</td>\n",
       "    </tr>\n",
       "    <tr>\n",
       "      <th>3</th>\n",
       "      <td>26.205292</td>\n",
       "      <td>28.744431</td>\n",
       "    </tr>\n",
       "    <tr>\n",
       "      <th>4</th>\n",
       "      <td>10.846180</td>\n",
       "      <td>11.085950</td>\n",
       "    </tr>\n",
       "    <tr>\n",
       "      <th>...</th>\n",
       "      <td>...</td>\n",
       "      <td>...</td>\n",
       "    </tr>\n",
       "    <tr>\n",
       "      <th>995</th>\n",
       "      <td>24.870830</td>\n",
       "      <td>29.515566</td>\n",
       "    </tr>\n",
       "    <tr>\n",
       "      <th>996</th>\n",
       "      <td>34.551748</td>\n",
       "      <td>43.741581</td>\n",
       "    </tr>\n",
       "    <tr>\n",
       "      <th>997</th>\n",
       "      <td>33.288769</td>\n",
       "      <td>24.714468</td>\n",
       "    </tr>\n",
       "    <tr>\n",
       "      <th>998</th>\n",
       "      <td>21.971494</td>\n",
       "      <td>17.822615</td>\n",
       "    </tr>\n",
       "    <tr>\n",
       "      <th>999</th>\n",
       "      <td>12.192406</td>\n",
       "      <td>14.669395</td>\n",
       "    </tr>\n",
       "  </tbody>\n",
       "</table>\n",
       "<p>1000 rows × 2 columns</p>\n",
       "</div>"
      ],
      "text/plain": [
       "           exp     salary\n",
       "0    21.737810  11.474506\n",
       "1     9.291892  11.325761\n",
       "2    28.518744  30.328383\n",
       "3    26.205292  28.744431\n",
       "4    10.846180  11.085950\n",
       "..         ...        ...\n",
       "995  24.870830  29.515566\n",
       "996  34.551748  43.741581\n",
       "997  33.288769  24.714468\n",
       "998  21.971494  17.822615\n",
       "999  12.192406  14.669395\n",
       "\n",
       "[1000 rows x 2 columns]"
      ]
     },
     "execution_count": 9,
     "metadata": {},
     "output_type": "execute_result"
    }
   ],
   "source": [
    "df"
   ]
  },
  {
   "cell_type": "code",
   "execution_count": 10,
   "id": "f106c2d2",
   "metadata": {},
   "outputs": [
    {
     "data": {
      "text/plain": [
       "<matplotlib.collections.PathCollection at 0x1c2dd210f40>"
      ]
     },
     "execution_count": 10,
     "metadata": {},
     "output_type": "execute_result"
    },
    {
     "data": {
      "image/png": "[encoded data removed]",
      "text/plain": [
       "<Figure size 432x288 with 1 Axes>"
      ]
     },
     "metadata": {
      "needs_background": "light"
     },
     "output_type": "display_data"
    }
   ],
   "source": [
    "plt.scatter(x=df['exp'],y=df[\"salary\"])"
   ]
  },
  {
   "cell_type": "code",
   "execution_count": 11,
   "id": "15d67adc",
   "metadata": {},
   "outputs": [
    {
     "data": {
      "text/html": [
       "<div>\n",
       "<style scoped>\n",
       "    .dataframe tbody tr th:only-of-type {\n",
       "        vertical-align: middle;\n",
       "    }\n",
       "\n",
       "    .dataframe tbody tr th {\n",
       "        vertical-align: top;\n",
       "    }\n",
       "\n",
       "    .dataframe thead th {\n",
       "        text-align: right;\n",
       "    }\n",
       "</style>\n",
       "<table border=\"1\" class=\"dataframe\">\n",
       "  <thead>\n",
       "    <tr style=\"text-align: right;\">\n",
       "      <th></th>\n",
       "      <th>exp</th>\n",
       "      <th>salary</th>\n",
       "    </tr>\n",
       "  </thead>\n",
       "  <tbody>\n",
       "    <tr>\n",
       "      <th>0</th>\n",
       "      <td>21.737810</td>\n",
       "      <td>11.474506</td>\n",
       "    </tr>\n",
       "    <tr>\n",
       "      <th>1</th>\n",
       "      <td>9.291892</td>\n",
       "      <td>11.325761</td>\n",
       "    </tr>\n",
       "    <tr>\n",
       "      <th>2</th>\n",
       "      <td>28.518744</td>\n",
       "      <td>30.328383</td>\n",
       "    </tr>\n",
       "    <tr>\n",
       "      <th>3</th>\n",
       "      <td>26.205292</td>\n",
       "      <td>28.744431</td>\n",
       "    </tr>\n",
       "    <tr>\n",
       "      <th>4</th>\n",
       "      <td>10.846180</td>\n",
       "      <td>11.085950</td>\n",
       "    </tr>\n",
       "  </tbody>\n",
       "</table>\n",
       "</div>"
      ],
      "text/plain": [
       "         exp     salary\n",
       "0  21.737810  11.474506\n",
       "1   9.291892  11.325761\n",
       "2  28.518744  30.328383\n",
       "3  26.205292  28.744431\n",
       "4  10.846180  11.085950"
      ]
     },
     "execution_count": 11,
     "metadata": {},
     "output_type": "execute_result"
    }
   ],
   "source": [
    "df.head()"
   ]
  },
  {
   "cell_type": "code",
   "execution_count": 12,
   "id": "c38b1bc4",
   "metadata": {},
   "outputs": [
    {
     "data": {
      "text/plain": [
       "(1000, 2)"
      ]
     },
     "execution_count": 12,
     "metadata": {},
     "output_type": "execute_result"
    }
   ],
   "source": [
    "df.shape"
   ]
  },
  {
   "cell_type": "code",
   "execution_count": 13,
   "id": "9191083b",
   "metadata": {},
   "outputs": [
    {
     "data": {
      "text/plain": [
       "1000"
      ]
     },
     "execution_count": 13,
     "metadata": {},
     "output_type": "execute_result"
    }
   ],
   "source": [
    "len(df)"
   ]
  },
  {
   "cell_type": "code",
   "execution_count": 14,
   "id": "831009e5",
   "metadata": {},
   "outputs": [],
   "source": [
    "from sklearn.model_selection import train_test_split"
   ]
  },
  {
   "cell_type": "code",
   "execution_count": 15,
   "id": "4349851f",
   "metadata": {},
   "outputs": [],
   "source": [
    "X=df[['exp']]\n",
    "y=df['salary']"
   ]
  },
  {
   "cell_type": "code",
   "execution_count": 16,
   "id": "16d5455a",
   "metadata": {},
   "outputs": [],
   "source": [
    "X_train,X_test,y_train,y_test=train_test_split(X,y,test_size=0.2,random_state=42)"
   ]
  },
  {
   "cell_type": "code",
   "execution_count": 19,
   "id": "e62f40e6",
   "metadata": {},
   "outputs": [
    {
     "data": {
      "text/html": [
       "<div>\n",
       "<style scoped>\n",
       "    .dataframe tbody tr th:only-of-type {\n",
       "        vertical-align: middle;\n",
       "    }\n",
       "\n",
       "    .dataframe tbody tr th {\n",
       "        vertical-align: top;\n",
       "    }\n",
       "\n",
       "    .dataframe thead th {\n",
       "        text-align: right;\n",
       "    }\n",
       "</style>\n",
       "<table border=\"1\" class=\"dataframe\">\n",
       "  <thead>\n",
       "    <tr style=\"text-align: right;\">\n",
       "      <th></th>\n",
       "      <th>exp</th>\n",
       "    </tr>\n",
       "  </thead>\n",
       "  <tbody>\n",
       "    <tr>\n",
       "      <th>29</th>\n",
       "      <td>28.422632</td>\n",
       "    </tr>\n",
       "    <tr>\n",
       "      <th>535</th>\n",
       "      <td>27.152397</td>\n",
       "    </tr>\n",
       "    <tr>\n",
       "      <th>695</th>\n",
       "      <td>33.304740</td>\n",
       "    </tr>\n",
       "    <tr>\n",
       "      <th>557</th>\n",
       "      <td>37.800006</td>\n",
       "    </tr>\n",
       "    <tr>\n",
       "      <th>836</th>\n",
       "      <td>19.293271</td>\n",
       "    </tr>\n",
       "    <tr>\n",
       "      <th>...</th>\n",
       "      <td>...</td>\n",
       "    </tr>\n",
       "    <tr>\n",
       "      <th>106</th>\n",
       "      <td>23.073399</td>\n",
       "    </tr>\n",
       "    <tr>\n",
       "      <th>270</th>\n",
       "      <td>35.296259</td>\n",
       "    </tr>\n",
       "    <tr>\n",
       "      <th>860</th>\n",
       "      <td>29.870113</td>\n",
       "    </tr>\n",
       "    <tr>\n",
       "      <th>435</th>\n",
       "      <td>17.907971</td>\n",
       "    </tr>\n",
       "    <tr>\n",
       "      <th>102</th>\n",
       "      <td>33.465799</td>\n",
       "    </tr>\n",
       "  </tbody>\n",
       "</table>\n",
       "<p>800 rows × 1 columns</p>\n",
       "</div>"
      ],
      "text/plain": [
       "           exp\n",
       "29   28.422632\n",
       "535  27.152397\n",
       "695  33.304740\n",
       "557  37.800006\n",
       "836  19.293271\n",
       "..         ...\n",
       "106  23.073399\n",
       "270  35.296259\n",
       "860  29.870113\n",
       "435  17.907971\n",
       "102  33.465799\n",
       "\n",
       "[800 rows x 1 columns]"
      ]
     },
     "execution_count": 19,
     "metadata": {},
     "output_type": "execute_result"
    }
   ],
   "source": [
    "X_train"
   ]
  },
  {
   "cell_type": "code",
   "execution_count": 20,
   "id": "2f3bfce1",
   "metadata": {},
   "outputs": [
    {
     "data": {
      "text/plain": [
       "29     29.293263\n",
       "535    26.703910\n",
       "695    31.233750\n",
       "557    34.112502\n",
       "836    30.393358\n",
       "         ...    \n",
       "106    19.943709\n",
       "270    15.315262\n",
       "860    32.739524\n",
       "435    17.524802\n",
       "102    41.751748\n",
       "Name: salary, Length: 800, dtype: float64"
      ]
     },
     "execution_count": 20,
     "metadata": {},
     "output_type": "execute_result"
    }
   ],
   "source": [
    "y_train"
   ]
  },
  {
   "cell_type": "code",
   "execution_count": 22,
   "id": "3319d3c3",
   "metadata": {},
   "outputs": [
    {
     "data": {
      "text/plain": [
       "29.293262535205997"
      ]
     },
     "execution_count": 22,
     "metadata": {},
     "output_type": "execute_result"
    }
   ],
   "source": [
    "y_train.iloc[0]"
   ]
  },
  {
   "cell_type": "code",
   "execution_count": 23,
   "id": "7ccce726",
   "metadata": {},
   "outputs": [],
   "source": [
    "def gradient_descent(m_now,b_now,learning_rate,X_train,y_train):\n",
    "    m_gradient=0\n",
    "    b_gradient=0\n",
    "    \n",
    "    n=len(X_train)\n",
    "    for i in range(n):\n",
    "        x=X_train.iloc[i].exp\n",
    "        y=y_train.iloc[i]\n",
    "        \n",
    "        m_gradient+=-(2/n)*x*(y-(m_now*x+b_now))\n",
    "        b_gradient+=-(2/n)*(y-(m_now*x+b_now))\n",
    "        \n",
    "    m=m_now-learning_rate*m_gradient\n",
    "    b=b_now-learning_rate*b_gradient\n",
    "    \n",
    "    return m,b\n",
    "    "
   ]
  },
  {
   "cell_type": "code",
   "execution_count": 87,
   "id": "75fe313c",
   "metadata": {
    "scrolled": true
   },
   "outputs": [
    {
     "name": "stdout",
     "output_type": "stream",
     "text": [
      "epoch :0\n",
      "epoch :50\n",
      "epoch :100\n",
      "epoch :150\n",
      "epoch :200\n",
      "epoch :250\n",
      "epoch :300\n",
      "epoch :350\n",
      "epoch :400\n",
      "epoch :450\n",
      "epoch :500\n",
      "epoch :550\n",
      "epoch :600\n",
      "epoch :650\n",
      "epoch :700\n",
      "epoch :750\n",
      "epoch :800\n",
      "epoch :850\n",
      "epoch :900\n",
      "epoch :950\n",
      "epoch :1000\n",
      "epoch :1050\n",
      "epoch :1100\n",
      "epoch :1150\n",
      "epoch :1200\n",
      "epoch :1250\n",
      "epoch :1300\n",
      "epoch :1350\n",
      "epoch :1400\n",
      "epoch :1450\n",
      "epoch :1500\n",
      "epoch :1550\n",
      "epoch :1600\n",
      "epoch :1650\n",
      "epoch :1700\n",
      "epoch :1750\n",
      "epoch :1800\n",
      "epoch :1850\n",
      "epoch :1900\n",
      "epoch :1950\n",
      "epoch :2000\n",
      "epoch :2050\n",
      "epoch :2100\n",
      "epoch :2150\n",
      "epoch :2200\n",
      "epoch :2250\n",
      "epoch :2300\n",
      "epoch :2350\n",
      "epoch :2400\n",
      "epoch :2450\n",
      "epoch :2500\n",
      "epoch :2550\n",
      "epoch :2600\n",
      "epoch :2650\n",
      "epoch :2700\n",
      "epoch :2750\n",
      "epoch :2800\n",
      "epoch :2850\n",
      "epoch :2900\n",
      "epoch :2950\n",
      "0.9002907006143737 3.041468867492051\n"
     ]
    }
   ],
   "source": [
    "m=0\n",
    "b=0\n",
    "learning_rate=0.001\n",
    "epochs=3000\n",
    "\n",
    "for i in range(epochs):\n",
    "    if(i%50==0):\n",
    "        print(f\"epoch :{i}\")\n",
    "    m,b=gradient_descent(m,b,learning_rate,X_train,y_train)\n",
    "\n",
    "print(m,b)"
   ]
  },
  {
   "cell_type": "code",
   "execution_count": 86,
   "id": "36e55f9e",
   "metadata": {},
   "outputs": [],
   "source": [
    "#2000\n",
    "#0.9289327567071849 2.233560273326324"
   ]
  },
  {
   "cell_type": "code",
   "execution_count": 88,
   "id": "f663e8e7",
   "metadata": {},
   "outputs": [
    {
     "data": {
      "text/plain": [
       "29.64134178720826"
      ]
     },
     "execution_count": 88,
     "metadata": {},
     "output_type": "execute_result"
    }
   ],
   "source": [
    "X_test.iloc[0].exp"
   ]
  },
  {
   "cell_type": "code",
   "execution_count": 89,
   "id": "5d9fbe19",
   "metadata": {},
   "outputs": [],
   "source": [
    "ypred_scratch=[]\n",
    "for i in range(len(X_test)):\n",
    "    ypred_scratch.append(m*X_test.iloc[i].exp+b)\n",
    "    "
   ]
  },
  {
   "cell_type": "code",
   "execution_count": 90,
   "id": "2b7edee5",
   "metadata": {},
   "outputs": [
    {
     "data": {
      "text/plain": [
       "[29.727293232247884,\n",
       " 34.23320766522586,\n",
       " 30.881921940381794,\n",
       " 29.471822704972592,\n",
       " 31.090342413570095,\n",
       " 21.94669057966588,\n",
       " 26.50098218405262,\n",
       " 29.121438684747044,\n",
       " 27.336614509288893,\n",
       " 6.214329906665602,\n",
       " 14.031177344385208,\n",
       " 29.362725535079345,\n",
       " 17.476915319363084,\n",
       " 12.640036801683491,\n",
       " 29.914841234454993,\n",
       " 33.0246404358188,\n",
       " 28.08933454189359,\n",
       " 16.434966222805674,\n",
       " 22.013442922642596,\n",
       " 22.154379422390406,\n",
       " 23.598686769620624,\n",
       " 30.09656723194615,\n",
       " 18.344885704477786,\n",
       " 23.783601468160544,\n",
       " 19.8463003144931,\n",
       " 22.59896327413896,\n",
       " 22.33995019150493,\n",
       " 29.322945906894603,\n",
       " 23.561160994083583,\n",
       " 14.11041703002622,\n",
       " 13.787122951341148,\n",
       " 29.316194902871764,\n",
       " 32.35222586736519,\n",
       " 32.607900331428745,\n",
       " 31.76777503601333,\n",
       " 21.535812483275933,\n",
       " 28.94813468798451,\n",
       " 30.41401318983497,\n",
       " 15.25272973395427,\n",
       " 29.50293889623255,\n",
       " 31.909294135308805,\n",
       " 31.476918488092128,\n",
       " 26.87238129521909,\n",
       " 43.3192425924451,\n",
       " 22.233803741641978,\n",
       " 39.35425740436923,\n",
       " 10.693532518363291,\n",
       " 31.07731652536759,\n",
       " 16.476362544022503,\n",
       " 25.87041434282571,\n",
       " 15.433552953194917,\n",
       " 21.93477304143592,\n",
       " 26.595432724511316,\n",
       " 26.011314750666042,\n",
       " 30.317357869181468,\n",
       " 25.363784754747513,\n",
       " 20.783086381122516,\n",
       " 31.047379843281824,\n",
       " 36.722596164409865,\n",
       " 26.5199277776199,\n",
       " 30.209535937399526,\n",
       " 27.213116083572835,\n",
       " 28.167496917089952,\n",
       " 14.988552977388062,\n",
       " 26.009789890961958,\n",
       " 25.54553735824768,\n",
       " 27.147003903293697,\n",
       " 33.425834832424634,\n",
       " 27.85145455985367,\n",
       " 39.230348369961696,\n",
       " 26.603995342804907,\n",
       " 26.464699575699154,\n",
       " 14.615381042429453,\n",
       " 32.63048745762618,\n",
       " 18.946272077456793,\n",
       " 26.838171478919545,\n",
       " 14.306439544475777,\n",
       " 45.33032498420655,\n",
       " 11.634854677113282,\n",
       " 30.01770238668237,\n",
       " 37.50552949876091,\n",
       " 29.238693828032932,\n",
       " 15.750151025922644,\n",
       " 25.113880742115814,\n",
       " 26.106092694602314,\n",
       " 30.12929165483645,\n",
       " 22.822200450621647,\n",
       " 11.770306203822953,\n",
       " 23.68790773898648,\n",
       " 15.710798313950212,\n",
       " 20.355284460941018,\n",
       " 20.50852548051064,\n",
       " 20.53431933169058,\n",
       " 38.472289785213064,\n",
       " 36.66554005387421,\n",
       " 21.341776925747762,\n",
       " 25.955641705843977,\n",
       " 24.65915981964581,\n",
       " 27.007450169460736,\n",
       " 29.765565255915796,\n",
       " 37.33007105244147,\n",
       " 19.785790692754226,\n",
       " 36.34633911373226,\n",
       " 27.696743459961056,\n",
       " 32.255848329308215,\n",
       " 32.38590695294334,\n",
       " 16.479248022753442,\n",
       " 21.801496033453503,\n",
       " 28.585818515190457,\n",
       " 20.457494207444736,\n",
       " 23.088525505736197,\n",
       " 32.05996110153894,\n",
       " 33.234878933925,\n",
       " 28.37415266178787,\n",
       " 18.253115227422935,\n",
       " 25.31252265325353,\n",
       " 23.275121173705184,\n",
       " 12.813591888599193,\n",
       " 25.1470595867265,\n",
       " 30.79385883472367,\n",
       " 22.595874972141498,\n",
       " 29.646842505774114,\n",
       " 12.14179426970764,\n",
       " 22.584929187725887,\n",
       " 16.90873957952346,\n",
       " 39.056336508534315,\n",
       " 21.57398269233018,\n",
       " 28.24350753640003,\n",
       " 19.30016398016419,\n",
       " 30.916364758104923,\n",
       " 10.009271230944263,\n",
       " 32.867830293182905,\n",
       " 14.952208989375086,\n",
       " 25.43244620168451,\n",
       " 41.25871054111646,\n",
       " 17.90860861745953,\n",
       " 27.688408476173773,\n",
       " 26.573222106752574,\n",
       " 24.60593044247561,\n",
       " 22.651484353535405,\n",
       " 29.886607334023118,\n",
       " 37.87290995457009,\n",
       " 27.138442358769247,\n",
       " 23.165861452425567,\n",
       " 21.599064354946645,\n",
       " 20.453365849481962,\n",
       " 37.38928810455861,\n",
       " 25.501332747300154,\n",
       " 23.50736911804461,\n",
       " 33.583970890205904,\n",
       " 32.2505456916665,\n",
       " 19.74837345852187,\n",
       " 33.64385353311798,\n",
       " 37.12756325908344,\n",
       " 36.199126558880714,\n",
       " 34.227856315926424,\n",
       " 22.57072413352067,\n",
       " 20.671165312608093,\n",
       " 28.089543611940783,\n",
       " 22.220539165481807,\n",
       " 42.387481013772394,\n",
       " 9.616610256206867,\n",
       " 30.53948894827402,\n",
       " 35.549892268250204,\n",
       " 26.850165846960582,\n",
       " 7.8410160252959,\n",
       " 7.159278947857953,\n",
       " 32.93637106917662,\n",
       " 30.1675706000154,\n",
       " 22.2370728053849,\n",
       " 23.34044480782467,\n",
       " 36.67917030868772,\n",
       " 29.13548251659444,\n",
       " 16.87623446330728,\n",
       " 7.4823297867178535,\n",
       " 40.862751729332714,\n",
       " 25.173917461144782,\n",
       " 31.42210708693608,\n",
       " 11.426844841536578,\n",
       " 21.67528386249923,\n",
       " 29.091950864387034,\n",
       " 13.027629460798408,\n",
       " 15.89239037596248,\n",
       " 44.9503656680996,\n",
       " 32.796870248873276,\n",
       " 24.028210171065517,\n",
       " 26.819285206600156,\n",
       " 34.556388779615126,\n",
       " 29.082257003277455,\n",
       " 23.740057775165223,\n",
       " 26.610814169691388,\n",
       " 33.389051156872796,\n",
       " 38.571859638276614,\n",
       " 32.793598673733285,\n",
       " 35.18658241233966,\n",
       " 24.04284644535968,\n",
       " 22.940102362452258,\n",
       " 21.67523236894951,\n",
       " 19.36258114410881,\n",
       " 13.094227330883548]"
      ]
     },
     "execution_count": 90,
     "metadata": {},
     "output_type": "execute_result"
    }
   ],
   "source": [
    "ypred_scratch"
   ]
  },
  {
   "cell_type": "code",
   "execution_count": 91,
   "id": "b1884edf",
   "metadata": {},
   "outputs": [],
   "source": [
    "from sklearn.linear_model import LinearRegression"
   ]
  },
  {
   "cell_type": "code",
   "execution_count": 92,
   "id": "0668ea68",
   "metadata": {},
   "outputs": [],
   "source": [
    "lr=LinearRegression()"
   ]
  },
  {
   "cell_type": "code",
   "execution_count": 93,
   "id": "f1412808",
   "metadata": {},
   "outputs": [
    {
     "data": {
      "text/plain": [
       "LinearRegression()"
      ]
     },
     "execution_count": 93,
     "metadata": {},
     "output_type": "execute_result"
    }
   ],
   "source": [
    "lr.fit(X_train,y_train)"
   ]
  },
  {
   "cell_type": "code",
   "execution_count": 94,
   "id": "fd4adf1e",
   "metadata": {},
   "outputs": [],
   "source": [
    "ypred_sklearn=lr.predict(X_test)"
   ]
  },
  {
   "cell_type": "code",
   "execution_count": 95,
   "id": "d46a9ed4",
   "metadata": {},
   "outputs": [],
   "source": [
    "from sklearn.metrics import mean_squared_error"
   ]
  },
  {
   "cell_type": "code",
   "execution_count": 96,
   "id": "82abe3a6",
   "metadata": {},
   "outputs": [
    {
     "name": "stdout",
     "output_type": "stream",
     "text": [
      "scratch: 5.111637812457719\n",
      "sklearn: 4.995461128595123\n"
     ]
    }
   ],
   "source": [
    "print(\"scratch:\",np.sqrt(mean_squared_error(y_test,ypred_scratch)))\n",
    "print(\"sklearn:\",np.sqrt(mean_squared_error(y_test,ypred_sklearn)))"
   ]
  },
  {
   "cell_type": "code",
   "execution_count": 102,
   "id": "999a6f97",
   "metadata": {},
   "outputs": [
    {
     "name": "stdout",
     "output_type": "stream",
     "text": [
      "exp    3.524263\n",
      "dtype: float64\n",
      "exp    46.972446\n",
      "dtype: float64\n"
     ]
    }
   ],
   "source": [
    "print(X_test.min())\n",
    "print(X_test.max())"
   ]
  },
  {
   "cell_type": "code",
   "execution_count": 103,
   "id": "3b4ea4c6",
   "metadata": {},
   "outputs": [
    {
     "data": {
      "text/plain": [
       "6.6563391306494175"
      ]
     },
     "execution_count": 103,
     "metadata": {},
     "output_type": "execute_result"
    }
   ],
   "source": [
    "lr.intercept_"
   ]
  },
  {
   "cell_type": "code",
   "execution_count": 104,
   "id": "739cd2ef",
   "metadata": {},
   "outputs": [
    {
     "data": {
      "text/plain": [
       "[<matplotlib.lines.Line2D at 0x1c2df889430>]"
      ]
     },
     "execution_count": 104,
     "metadata": {},
     "output_type": "execute_result"
    },
    {
     "data": {
      "image/png": "[encoded data removed]",
      "text/plain": [
       "<Figure size 432x288 with 1 Axes>"
      ]
     },
     "metadata": {
      "needs_background": "light"
     },
     "output_type": "display_data"
    }
   ],
   "source": [
    "plt.scatter(df.exp,df.salary)\n",
    "plt.plot(list(range(3,50)),[m*x+b for x in range(3,50)],color='r')"
   ]
  },
  {
   "cell_type": "code",
   "execution_count": 105,
   "id": "8d2bd7d7",
   "metadata": {},
   "outputs": [
    {
     "data": {
      "text/plain": [
       "array([0.77213596])"
      ]
     },
     "execution_count": 105,
     "metadata": {},
     "output_type": "execute_result"
    }
   ],
   "source": [
    "lr.coef_"
   ]
  },
  {
   "cell_type": "code",
   "execution_count": 106,
   "id": "c85ee313",
   "metadata": {},
   "outputs": [
    {
     "data": {
      "text/plain": [
       "[<matplotlib.lines.Line2D at 0x1c2dfa0c6a0>]"
      ]
     },
     "execution_count": 106,
     "metadata": {},
     "output_type": "execute_result"
    },
    {
     "data": {
      "image/png": "[encoded data removed]",
      "text/plain": [
       "<Figure size 432x288 with 1 Axes>"
      ]
     },
     "metadata": {
      "needs_background": "light"
     },
     "output_type": "display_data"
    }
   ],
   "source": [
    "plt.scatter(df.exp,df.salary)\n",
    "plt.plot(list(range(3,50)),[0.77213596*x+6.6563391306494175 for x in range(3,50)],color='r')"
   ]
  },
  {
   "cell_type": "code",
   "execution_count": null,
   "id": "867351a3",
   "metadata": {},
   "outputs": [],
   "source": []
  }
 ],
 "metadata": {
  "kernelspec": {
   "display_name": "Python 3 (ipykernel)",
   "language": "python",
   "name": "python3"
  },
  "language_info": {
   "codemirror_mode": {
    "name": "ipython",
    "version": 3
   },
   "file_extension": ".py",
   "mimetype": "text/x-python",
   "name": "python",
   "nbconvert_exporter": "python",
   "pygments_lexer": "ipython3",
   "version": "3.9.7"
  }
 },
 "nbformat": 4,
 "nbformat_minor": 5
}
